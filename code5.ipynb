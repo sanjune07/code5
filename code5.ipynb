{
 "cells": [
  {
   "cell_type": "code",
   "execution_count": 16,
   "id": "3274c775",
   "metadata": {},
   "outputs": [],
   "source": [
    "def calculate_sample_size(population_size, confidence_level, margin_of_error):\n",
    "    if confidence_level == 90:\n",
    "        z_score = 1.64\n",
    "    elif confidence_level == 95:\n",
    "        z_score = 1.96\n",
    "    elif confidence_level == 99:\n",
    "        z_score = 2.58\n",
    "    else:\n",
    "        print(\"unsupported confidence level. Please inout a value of 90, 95, or 99.\")\n",
    "        return None\n",
    "    # specify the unknown proportion value\n",
    "    p = 0.5\n",
    "    \n",
    "    #perform the calculation\n",
    "    sample_size = ((z_score * z_score * p * (1-p)) / (margin_of_error * margin_of_error))\n",
    "    return int(sample_size)\n"
   ]
  },
  {
   "cell_type": "code",
   "execution_count": 22,
   "id": "a526bd7f",
   "metadata": {},
   "outputs": [],
   "source": [
    "def systematic_sample(population, sample_size):\n",
    "    interval = len(population) / sample_size\n",
    "    interval = round(interval)\n",
    "    \n",
    "    selected_elements = []\n",
    "    \n",
    "    for i in range(0, len(population), interval):\n",
    "        selected_elements.append(population[i])\n",
    "    \n",
    "    return selected_elements"
   ]
  },
  {
   "cell_type": "code",
   "execution_count": 23,
   "id": "5a2a2dce",
   "metadata": {},
   "outputs": [
    {
     "name": "stdout",
     "output_type": "stream",
     "text": [
      "enter the population size: 1680000\n",
      "enter the confidence level, ex 90, 95, or 99: 95\n",
      "enter the desired margin of error, ex 0.05, 0.10: 0.05\n",
      "the calculated sample size was approximately 384\n",
      "enter your desired sample size: 6\n",
      "the following elements were selected by systematic random sampling: \n",
      "[1, 280001, 560001, 840001, 1120001, 1400001]\n"
     ]
    }
   ],
   "source": [
    "# getting user input\n",
    "population_size = int(input(\"enter the population size: \"))\n",
    "confidence_level = int(input(\"enter the confidence level, ex 90, 95, or 99: \"))\n",
    "margin_of_error = float(input(\"enter the desired margin of error, ex 0.05, 0.10: \"))\n",
    "                        \n",
    "sample_size = calculate_sample_size(population_size, confidence_level, margin_of_error)\n",
    "                       \n",
    "print(f\"the calculated sample size was approximately {sample_size}\")\n",
    "                        \n",
    "user_sample_size = int(input(\"enter your desired sample size: \"))\n",
    "                        \n",
    "maximum_sample_size = calculate_sample_size(population_size, 99, 0.01)\n",
    "                        \n",
    "if user_sample_size > maximum_sample_size:\n",
    "    print(\"sorry, the requested sample size is most likely not feasible, please enter a lower value.\")\n",
    "        \n",
    "else: \n",
    "    systematic_sample = systematic_sample(list(range(1, population_size +1)), user_sample_size)\n",
    "                        \n",
    "    print(\"the following elements were selected by systematic random sampling: \")\n",
    "    print(systematic_sample)"
   ]
  },
  {
   "cell_type": "code",
   "execution_count": null,
   "id": "342dde7b",
   "metadata": {},
   "outputs": [],
   "source": []
  }
 ],
 "metadata": {
  "kernelspec": {
   "display_name": "Python 3 (ipykernel)",
   "language": "python",
   "name": "python3"
  },
  "language_info": {
   "codemirror_mode": {
    "name": "ipython",
    "version": 3
   },
   "file_extension": ".py",
   "mimetype": "text/x-python",
   "name": "python",
   "nbconvert_exporter": "python",
   "pygments_lexer": "ipython3",
   "version": "3.11.4"
  }
 },
 "nbformat": 4,
 "nbformat_minor": 5
}
